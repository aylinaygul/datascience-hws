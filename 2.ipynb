{
 "cells": [
  {
   "cell_type": "code",
   "execution_count": 2,
   "id": "e1c871d6",
   "metadata": {},
   "outputs": [
    {
     "name": "stdout",
     "output_type": "stream",
     "text": [
      "   PassengerId  Survived  Pclass  \\\n",
      "0            1         0       3   \n",
      "1            2         1       1   \n",
      "2            3         1       3   \n",
      "3            4         1       1   \n",
      "4            5         0       3   \n",
      "5            6         0       3   \n",
      "\n",
      "                                                Name     Sex   Age  SibSp  \\\n",
      "0                            Braund, Mr. Owen Harris    male  22.0      1   \n",
      "1  Cumings, Mrs. John Bradley (Florence Briggs Th...  female  38.0      1   \n",
      "2                             Heikkinen, Miss. Laina  female  26.0      0   \n",
      "3       Futrelle, Mrs. Jacques Heath (Lily May Peel)  female  35.0      1   \n",
      "4                           Allen, Mr. William Henry    male  35.0      0   \n",
      "5                                   Moran, Mr. James    male   NaN      0   \n",
      "\n",
      "   Parch            Ticket     Fare Cabin Embarked  \n",
      "0      0         A/5 21171   7.2500   NaN        S  \n",
      "1      0          PC 17599  71.2833   C85        C  \n",
      "2      0  STON/O2. 3101282   7.9250   NaN        S  \n",
      "3      0            113803  53.1000  C123        S  \n",
      "4      0            373450   8.0500   NaN        S  \n",
      "5      0            330877   8.4583   NaN        Q  \n"
     ]
    }
   ],
   "source": [
    "import pandas as pd\n",
    "import seaborn as sns\n",
    "import matplotlib.pyplot as plt\n",
    "df_titanic = pd.read_csv('train.csv')\n",
    "#it imports libraries that we need and it reads dataset from csv file\n",
    "print(df_titanic.head(6))\n",
    "#it prints first 6 rows of dataset"
   ]
  },
  {
   "cell_type": "code",
   "execution_count": 3,
   "id": "e1c45e46",
   "metadata": {},
   "outputs": [
    {
     "name": "stdout",
     "output_type": "stream",
     "text": [
      "PassengerId\n",
      "Survived\n",
      "Pclass\n",
      "Name\n",
      "Sex\n",
      "Age\n",
      "SibSp\n",
      "Parch\n",
      "Ticket\n",
      "Fare\n",
      "Cabin\n",
      "Embarked\n"
     ]
    }
   ],
   "source": [
    "#q2\n",
    "for col in df_titanic.columns:\n",
    "    print(col)\n",
    "    #it prints column names"
   ]
  },
  {
   "cell_type": "code",
   "execution_count": 4,
   "id": "271f73b4",
   "metadata": {},
   "outputs": [
    {
     "name": "stdout",
     "output_type": "stream",
     "text": [
      "891\n"
     ]
    }
   ],
   "source": [
    "#q3\n",
    "print(len(df_titanic))\n",
    "#it prints length of the dataset"
   ]
  },
  {
   "cell_type": "code",
   "execution_count": 5,
   "id": "b5da7cbb",
   "metadata": {},
   "outputs": [
    {
     "name": "stdout",
     "output_type": "stream",
     "text": [
      "Age 177\n",
      "Cabin 687\n",
      "Embarked 2\n"
     ]
    }
   ],
   "source": [
    "#q4\n",
    "print(\"Age\", df_titanic.isnull().sum()['Age'])\n",
    "print(\"Cabin\", df_titanic.isnull().sum()['Cabin'])\n",
    "print(\"Embarked\", df_titanic.isnull().sum()['Embarked'])\n",
    "#it prints the total null values for Age, Cabin and Embarked columns"
   ]
  },
  {
   "cell_type": "code",
   "execution_count": 7,
   "id": "e81239ea",
   "metadata": {},
   "outputs": [
    {
     "data": {
      "text/plain": [
       "<AxesSubplot:ylabel='Survived'>"
      ]
     },
     "execution_count": 7,
     "metadata": {},
     "output_type": "execute_result"
    },
    {
     "data": {
      "image/png": "[encoded data removed]",
      "text/plain": [
       "<Figure size 432x288 with 1 Axes>"
      ]
     },
     "metadata": {},
     "output_type": "display_data"
    }
   ],
   "source": [
    "#q5\n",
    "df_titanic.groupby('Embarked').Survived.mean().plot(kind='pie', autopct='%1.0f%%' )\n",
    "#'Cherbourg is the most number of people embarked from and Southampton is the least amount of people embarked from.\n"
   ]
  },
  {
   "cell_type": "code",
   "execution_count": 8,
   "id": "cb4a1d1b",
   "metadata": {},
   "outputs": [
    {
     "data": {
      "text/plain": [
       "<AxesSubplot:>"
      ]
     },
     "execution_count": 8,
     "metadata": {},
     "output_type": "execute_result"
    },
    {
     "data": {
      "image/png": "[encoded data removed]",
      "text/plain": [
       "<Figure size 360x360 with 1 Axes>"
      ]
     },
     "metadata": {
      "needs_background": "light"
     },
     "output_type": "display_data"
    }
   ],
   "source": [
    "#q6\n",
    "plt.figure(figsize=(5,5))\n",
    "df_titanic.Pclass.value_counts().plot(kind='bar')\n",
    "#Most of the passengers was in the third class.\n"
   ]
  },
  {
   "cell_type": "code",
   "execution_count": 48,
   "id": "98088d95",
   "metadata": {},
   "outputs": [
    {
     "data": {
      "image/png": "[encoded data removed]",
      "text/plain": [
       "<Figure size 432x288 with 1 Axes>"
      ]
     },
     "metadata": {
      "needs_background": "light"
     },
     "output_type": "display_data"
    },
    {
     "data": {
      "image/png": "[encoded data removed]",
      "text/plain": [
       "<Figure size 432x288 with 1 Axes>"
      ]
     },
     "metadata": {
      "needs_background": "light"
     },
     "output_type": "display_data"
    },
    {
     "data": {
      "image/png": "[encoded data removed]",
      "text/plain": [
       "<Figure size 432x288 with 1 Axes>"
      ]
     },
     "metadata": {
      "needs_background": "light"
     },
     "output_type": "display_data"
    }
   ],
   "source": [
    "#q7\n",
    "fd_class1 = len(df_titanic[(data[\"Sex\"] == \"female\") & (df_titanic[\"Survived\"] == 0)& (df_titanic[\"Pclass\"] == 1)])\n",
    "fs_class1 = len(df_titanic[(df_titanic[\"Sex\"] == \"female\") & (df_titanic[\"Survived\"] == 1)& (df_titanic[\"Pclass\"] == 1)])\n",
    "\n",
    "fd_class2 = len(df_titanic[(df_titanic[\"Sex\"] == \"female\") & (df_titanic[\"Survived\"] == 0)& (df_titanic[\"Pclass\"] == 2)])\n",
    "fs_class2 = len(df_titanic[(df_titanic[\"Sex\"] == \"female\") & (df_titanic[\"Survived\"] == 1)& (df_titanic[\"Pclass\"] == 2)])\n",
    "\n",
    "fd_class3 = len(df_titanic[(df_titanic[\"Sex\"] == \"female\") & (df_titanic[\"Survived\"] == 0)& (df_titanic[\"Pclass\"] == 3)])\n",
    "fs_class3 = len(df_titanic[(df_titanic[\"Sex\"] == \"female\") & (df_titanic[\"Survived\"] == 1)& (df_titanic[\"Pclass\"] == 3)])\n",
    "#fd is female that died, fs means female that survived.\n",
    "data1 = {'Survived':['Survived','Died' ], \"size\": [fs_class1,fd_class1]};\n",
    "df1=pd.DataFrame(data=data1)\n",
    "data2 = {'Survived':['Survived','Died' ], \"size\": [fs_class2,fd_class2]};\n",
    "df2=pd.DataFrame(data=data2)\n",
    "data3 = {'Survived':['Survived','Died' ], \"size\": [fs_class3,fd_class3]};\n",
    "df3=pd.DataFrame(data=data3)                         \n",
    " \n",
    "bar=df1.plot.bar(x='Survived',y='size',title='class 1')\n",
    "bar=df2.plot.bar(x='Survived',y='size',title='class 2')\n",
    "bar=df3.plot.bar(x='Survived',y='size',title='class 3')\n",
    "#it shows the number of female passengers for each ticket class who survived "
   ]
  },
  {
   "cell_type": "code",
   "execution_count": 37,
   "id": "0e75486d",
   "metadata": {},
   "outputs": [
    {
     "data": {
      "image/png": "[encoded data removed]",
      "text/plain": [
       "<Figure size 1296x576 with 2 Axes>"
      ]
     },
     "metadata": {
      "needs_background": "light"
     },
     "output_type": "display_data"
    }
   ],
   "source": [
    "#q8\n",
    "fig, (ax1,ax2) = plt.subplots(nrows=1, ncols=2, figsize=(18, 8))\n",
    "labels = ['Survived', 'Not Survived']\n",
    "female_s = df_titanic[(df_titanic[\"Sex\"] == \"female\") & (df_titanic[\"Survived\"] == 1)]\n",
    "female_d = df_titanic[(df_titanic[\"Sex\"] == \"female\") & (df_titanic[\"Survived\"] == 0)]\n",
    "male_s = df_titanic[(df_titanic[\"Sex\"] == \"male\") & (df_titanic[\"Survived\"] == 1)]\n",
    "male_d = df_titanic[(df_titanic[\"Sex\"] == \"male\") & (df_titanic[\"Survived\"] == 0)]\n",
    "\n",
    "bx1 = ax1.boxplot([female_s['Age'].dropna(axis=0).values, \n",
    "                     female_d['Age'].dropna(axis=0).values], \n",
    "                     vert=True,  \n",
    "                     patch_artist=True,  \n",
    "                     labels=labels)  \n",
    "ax1.set_title('Female')\n",
    "\n",
    "bx2 = ax2.boxplot([male_s['Age'].dropna(axis=0).values,\n",
    "                    male_d['Age'].dropna(axis=0).values],\n",
    "                    vert=True, \n",
    "                    patch_artist=True,\n",
    "                    labels=labels)\n",
    "ax2.set_title('Male')\n",
    "\n",
    "colors = ['pink', 'pink']\n",
    "\n",
    "for patch, color in zip(bx1['boxes'], colors):\n",
    "    patch.set_facecolor(color)\n",
    "\n",
    "\n",
    "ax1.yaxis.grid(True)\n",
    "ax1.set_xlabel('Survived')\n",
    "ax1.set_ylabel('Age')\n",
    "\n",
    "plt.show()\n",
    "#it creates two boxplot diagrams using plotlyb library.\n",
    "#and we can see that male has higher age range than female."
   ]
  },
  {
   "cell_type": "code",
   "execution_count": 41,
   "id": "8741a4fc",
   "metadata": {},
   "outputs": [
    {
     "data": {
      "text/html": [
       "<div>\n",
       "<style scoped>\n",
       "    .dataframe tbody tr th:only-of-type {\n",
       "        vertical-align: middle;\n",
       "    }\n",
       "\n",
       "    .dataframe tbody tr th {\n",
       "        vertical-align: top;\n",
       "    }\n",
       "\n",
       "    .dataframe thead th {\n",
       "        text-align: right;\n",
       "    }\n",
       "</style>\n",
       "<table border=\"1\" class=\"dataframe\">\n",
       "  <thead>\n",
       "    <tr style=\"text-align: right;\">\n",
       "      <th>Survived</th>\n",
       "      <th>0</th>\n",
       "      <th>1</th>\n",
       "      <th>Total</th>\n",
       "    </tr>\n",
       "    <tr>\n",
       "      <th>Sex</th>\n",
       "      <th></th>\n",
       "      <th></th>\n",
       "      <th></th>\n",
       "    </tr>\n",
       "  </thead>\n",
       "  <tbody>\n",
       "    <tr>\n",
       "      <th>female</th>\n",
       "      <td>81</td>\n",
       "      <td>233</td>\n",
       "      <td>314</td>\n",
       "    </tr>\n",
       "    <tr>\n",
       "      <th>male</th>\n",
       "      <td>468</td>\n",
       "      <td>109</td>\n",
       "      <td>577</td>\n",
       "    </tr>\n",
       "    <tr>\n",
       "      <th>Total</th>\n",
       "      <td>549</td>\n",
       "      <td>342</td>\n",
       "      <td>891</td>\n",
       "    </tr>\n",
       "  </tbody>\n",
       "</table>\n",
       "</div>"
      ],
      "text/plain": [
       "Survived    0    1  Total\n",
       "Sex                      \n",
       "female     81  233    314\n",
       "male      468  109    577\n",
       "Total     549  342    891"
      ]
     },
     "execution_count": 41,
     "metadata": {},
     "output_type": "execute_result"
    }
   ],
   "source": [
    "#q9-10\n",
    "pd.crosstab(df_titanic.Sex, df_titanic.Survived, margins=True, margins_name=\"Total\")\n",
    "#233 of the females and 109 had survived.\n",
    "#We can say that women was privileged."
   ]
  },
  {
   "cell_type": "code",
   "execution_count": 39,
   "id": "d62762a9",
   "metadata": {},
   "outputs": [
    {
     "data": {
      "text/plain": [
       "<AxesSubplot:>"
      ]
     },
     "execution_count": 39,
     "metadata": {},
     "output_type": "execute_result"
    },
    {
     "data": {
      "image/png": "[encoded data removed]",
      "text/plain": [
       "<Figure size 864x288 with 2 Axes>"
      ]
     },
     "metadata": {
      "needs_background": "light"
     },
     "output_type": "display_data"
    }
   ],
   "source": [
    "#q11\n",
    "cols= ['Survived','Age','Sex','Fare','Pclass']\n",
    "train_corr = df_titanic[cols].corr()\n",
    "fig,ax = plt.subplots(figsize=(12,4))\n",
    "sns.heatmap(train_corr)\n",
    "#It uses plotly for create heatmap."
   ]
  },
  {
   "cell_type": "code",
   "execution_count": 11,
   "id": "00365450",
   "metadata": {},
   "outputs": [
    {
     "data": {
      "text/plain": [
       "<AxesSubplot:>"
      ]
     },
     "execution_count": 11,
     "metadata": {},
     "output_type": "execute_result"
    },
    {
     "data": {
      "image/png": "[encoded data removed]",
      "text/plain": [
       "<Figure size 864x288 with 2 Axes>"
      ]
     },
     "metadata": {
      "needs_background": "light"
     },
     "output_type": "display_data"
    }
   ],
   "source": [
    "#q12\n",
    "cols= ['Survived','Age','Sex','Fare','Pclass']\n",
    "train_corr = df_titanic[cols].corr()\n",
    "fig,ax = plt.subplots(figsize=(12,4))\n",
    "sns.heatmap(train_corr,annot=True)\n",
    "#Correlation between Pclass and Survived is -0.34 and \n",
    "#it is a strong correlation than most of other attributes"
   ]
  },
  {
   "cell_type": "code",
   "execution_count": 12,
   "id": "8cbfedb2",
   "metadata": {},
   "outputs": [
    {
     "data": {
      "text/plain": [
       "0.42"
      ]
     },
     "execution_count": 12,
     "metadata": {},
     "output_type": "execute_result"
    }
   ],
   "source": [
    "#q13\n",
    "df_titanic['Age'].min()\n",
    "#youngest passenger was 4 months old."
   ]
  },
  {
   "cell_type": "code",
   "execution_count": 13,
   "id": "d53ed6aa",
   "metadata": {},
   "outputs": [
    {
     "data": {
      "text/plain": [
       "32.2042079685746"
      ]
     },
     "execution_count": 13,
     "metadata": {},
     "output_type": "execute_result"
    }
   ],
   "source": [
    "#q14\n",
    "df_titanic['Fare'].mean()\n",
    "#avareage ticket fare is 32.2042079685746."
   ]
  },
  {
   "cell_type": "code",
   "execution_count": 15,
   "id": "b5413e3b",
   "metadata": {},
   "outputs": [
    {
     "data": {
      "text/plain": [
       "80.0"
      ]
     },
     "execution_count": 15,
     "metadata": {},
     "output_type": "execute_result"
    }
   ],
   "source": [
    "#q15\n",
    "df_titanic['Age'][df_titanic['Survived']==1].max()\n",
    "#Oldest passenger that survived was 80 years old."
   ]
  },
  {
   "cell_type": "code",
   "execution_count": 14,
   "id": "ab27be59",
   "metadata": {},
   "outputs": [
    {
     "data": {
      "text/plain": [
       "63.0"
      ]
     },
     "execution_count": 14,
     "metadata": {},
     "output_type": "execute_result"
    }
   ],
   "source": [
    "#q16\n",
    "female = df_titanic['Age'][df_titanic['Survived']==1][df_titanic['Sex']=='female']\n",
    "female.max()\n",
    "#oldest female who survived was 63 years old."
   ]
  },
  {
   "cell_type": "code",
   "execution_count": 16,
   "id": "dd921801",
   "metadata": {},
   "outputs": [
    {
     "data": {
      "text/html": [
       "<div>\n",
       "<style scoped>\n",
       "    .dataframe tbody tr th:only-of-type {\n",
       "        vertical-align: middle;\n",
       "    }\n",
       "\n",
       "    .dataframe tbody tr th {\n",
       "        vertical-align: top;\n",
       "    }\n",
       "\n",
       "    .dataframe thead th {\n",
       "        text-align: right;\n",
       "    }\n",
       "</style>\n",
       "<table border=\"1\" class=\"dataframe\">\n",
       "  <thead>\n",
       "    <tr style=\"text-align: right;\">\n",
       "      <th></th>\n",
       "      <th>PassengerId</th>\n",
       "      <th>Survived</th>\n",
       "      <th>Pclass</th>\n",
       "      <th>Name</th>\n",
       "      <th>Sex</th>\n",
       "      <th>Age</th>\n",
       "      <th>SibSp</th>\n",
       "      <th>Parch</th>\n",
       "      <th>Ticket</th>\n",
       "      <th>Fare</th>\n",
       "      <th>Cabin</th>\n",
       "      <th>Embarked</th>\n",
       "    </tr>\n",
       "  </thead>\n",
       "  <tbody>\n",
       "    <tr>\n",
       "      <th>777</th>\n",
       "      <td>778</td>\n",
       "      <td>1</td>\n",
       "      <td>3</td>\n",
       "      <td>Emanuel, Miss. Virginia Ethel</td>\n",
       "      <td>female</td>\n",
       "      <td>5.0</td>\n",
       "      <td>0</td>\n",
       "      <td>0</td>\n",
       "      <td>364516</td>\n",
       "      <td>12.475</td>\n",
       "      <td>NaN</td>\n",
       "      <td>S</td>\n",
       "    </tr>\n",
       "  </tbody>\n",
       "</table>\n",
       "</div>"
      ],
      "text/plain": [
       "     PassengerId  Survived  Pclass                           Name     Sex  \\\n",
       "777          778         1       3  Emanuel, Miss. Virginia Ethel  female   \n",
       "\n",
       "     Age  SibSp  Parch  Ticket    Fare Cabin Embarked  \n",
       "777  5.0      0      0  364516  12.475   NaN        S  "
      ]
     },
     "execution_count": 16,
     "metadata": {},
     "output_type": "execute_result"
    }
   ],
   "source": [
    "#q17\n",
    "df_titanic[(df_titanic['Age']<10)&(df_titanic['Parch']==0)]\n",
    "#there is a child that traveling without parents.\n",
    "#The child might have traveled with other relations or \n",
    "#Child might be taken to the ship for adoption."
   ]
  },
  {
   "cell_type": "code",
   "execution_count": 25,
   "id": "c5fe27db",
   "metadata": {},
   "outputs": [
    {
     "data": {
      "text/plain": [
       "<seaborn.axisgrid.FacetGrid at 0x1889fca8d90>"
      ]
     },
     "execution_count": 25,
     "metadata": {},
     "output_type": "execute_result"
    },
    {
     "data": {
      "image/png": "[encoded data removed]",
      "text/plain": [
       "<Figure size 432x216 with 2 Axes>"
      ]
     },
     "metadata": {
      "needs_background": "light"
     },
     "output_type": "display_data"
    }
   ],
   "source": [
    "#q18\n",
    "data= df_titanic[df_titanic['Survived']==1]\n",
    "age_sex_hist = sns.FacetGrid(data, col='Sex', hue = \"Sex\")\n",
    "age_sex_hist.map(plt.hist, 'Age', bins=20)\n",
    "#if we look at histograms we can see that female had a higher survival chance."
   ]
  },
  {
   "cell_type": "code",
   "execution_count": 18,
   "id": "ad4fd560",
   "metadata": {},
   "outputs": [
    {
     "data": {
      "text/plain": [
       "8"
      ]
     },
     "execution_count": 18,
     "metadata": {},
     "output_type": "execute_result"
    }
   ],
   "source": [
    "#q19\n",
    "df_titanic['SibSp'].max()\n",
    "#the passenger who has the highest number of siblings had 8 siblings."
   ]
  },
  {
   "cell_type": "code",
   "execution_count": 29,
   "id": "869e3a32",
   "metadata": {},
   "outputs": [
    {
     "data": {
      "image/png": "[encoded data removed]",
      "text/plain": [
       "<Figure size 483.875x216 with 2 Axes>"
      ]
     },
     "metadata": {
      "needs_background": "light"
     },
     "output_type": "display_data"
    }
   ],
   "source": [
    "#q20\n",
    "g = sns.FacetGrid(df_titanic, hue=\"Survived\", col=\"Sex\", margin_titles=True,\n",
    "                hue_kws=dict(marker=[\"^\", \"v\"]),palette={1:\"green\", 0:\"blue\"})\n",
    "g.map(plt.scatter, \"Age\", \"Fare\",edgecolor=\"w\").add_legend()\n",
    "plt.subplots_adjust(top=1.3)\n",
    "#it uses seaborn for creating scatterplot.\n",
    "#Female had higher survival rate according to scatterplot."
   ]
  }
 ],
 "metadata": {
  "kernelspec": {
   "display_name": "Python 3 (ipykernel)",
   "language": "python",
   "name": "python3"
  },
  "language_info": {
   "codemirror_mode": {
    "name": "ipython",
    "version": 3
   },
   "file_extension": ".py",
   "mimetype": "text/x-python",
   "name": "python",
   "nbconvert_exporter": "python",
   "pygments_lexer": "ipython3",
   "version": "3.9.7"
  }
 },
 "nbformat": 4,
 "nbformat_minor": 5
}
